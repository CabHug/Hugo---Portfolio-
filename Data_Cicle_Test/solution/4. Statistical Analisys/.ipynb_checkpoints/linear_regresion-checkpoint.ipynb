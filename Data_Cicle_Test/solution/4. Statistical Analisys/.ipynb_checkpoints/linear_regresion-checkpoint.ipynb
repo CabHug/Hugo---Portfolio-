{
 "cells": [
  {
   "cell_type": "markdown",
   "id": "cc2c9660",
   "metadata": {},
   "source": [
    "## Define functions"
   ]
  },
  {
   "cell_type": "code",
   "execution_count": 4,
   "id": "9f1044d4",
   "metadata": {},
   "outputs": [],
   "source": [
    "import numpy as np\n",
    "import pandas as pd\n",
    "from sklearn.linear_model import LinearRegression\n",
    "from sklearn.preprocessing import MinMaxScaler\n",
    "from sklearn.model_selection import train_test_split\n",
    "\n",
    "def linear_regression_model(X, y, X_test=None):\n",
    "    # --- Convert X ---\n",
    "    if isinstance(X, pd.Series):\n",
    "        X = X.to_frame()  # convertir serie en DataFrame (2D)\n",
    "    elif isinstance(X, list) or isinstance(X, np.ndarray):\n",
    "        X = np.array(X).reshape(-1, 1) if np.ndim(X) == 1 else np.array(X)\n",
    "    \n",
    "    # --- Convert y ---\n",
    "    if isinstance(y, pd.DataFrame):\n",
    "        y = y.squeeze()  # convertir DataFrame con una columna a Serie\n",
    "    else:\n",
    "        y = np.array(y)\n",
    "    \n",
    "    # --- Train Model ---\n",
    "    model = LinearRegression()\n",
    "    model.fit(X, y)\n",
    "    \n",
    "    # --- Predictions ---\n",
    "    y_test_pred = None\n",
    "    if X_test is not None:\n",
    "        if isinstance(X_test, pd.Series):\n",
    "            X_test = X_test.to_frame()\n",
    "        elif isinstance(X_test, list) or isinstance(X_test, np.ndarray):\n",
    "            X_test = np.array(X_test).reshape(-1, 1)\n",
    "        y_test_pred = model.predict(X_test)\n",
    "    \n",
    "    print(f\"\\n📈 Ecuación: y = {model.intercept_:.2f} + {model.coef_[0]:.2f}x\")\n",
    "    \n",
    "    return y_test_pred\n",
    "\n",
    "def min_max_scaling(X, feature_range=(0, 1)):\n",
    "    scaler = MinMaxScaler(feature_range=feature_range)\n",
    "    X_scaled = scaler.fit_transform(X)\n",
    "    return X_scaled\n",
    "    \n",
    "def train_test_split_data(X, y, test_size=0.2, random_state=None):\n",
    "    X_train, X_test, y_train, y_test = train_test_split(X, y, test_size=test_size, random_state=random_state)\n",
    "    return X_train, X_test, y_train, y_test"
   ]
  },
  {
   "cell_type": "markdown",
   "id": "7ac06afc",
   "metadata": {},
   "source": [
    "## Retreive Data"
   ]
  },
  {
   "cell_type": "code",
   "execution_count": null,
   "id": "ed9f819a",
   "metadata": {},
   "outputs": [],
   "source": [
    "retail_2009_2010 = pd.read_excel(r\"..\\..\\utils\\cleaned_retail_2009.xlsx\")\n",
    "retail_2010_2011 = pd.read_excel(r\"..\\..\\utils\\cleaned_retail_2010.xlsx\")\n",
    "\n",
    "retail_2009_2011 = pd.concat([retail_2009_2010, retail_2010_2011], ignore_index=True)\n",
    "\n",
    "print(retail_2009_2011)\n",
    "\n",
    "lr_data = retail_2009_2011[retail_2009_2011[\"stockcode\"] == 85099] #- The most sold Stockcode]\n",
    "lr_data = lr_data.loc[:,['quantity', 'price']]\n",
    "\n",
    "\n"
   ]
  },
  {
   "cell_type": "code",
   "execution_count": null,
   "id": "02173e62",
   "metadata": {},
   "outputs": [
    {
     "name": "stdout",
     "output_type": "stream",
     "text": [
      "<class 'pandas.core.frame.DataFrame'>\n",
      "RangeIndex: 689289 entries, 0 to 689288\n",
      "Data columns (total 8 columns):\n",
      " #   Column       Non-Null Count   Dtype         \n",
      "---  ------       --------------   -----         \n",
      " 0   invoice      689289 non-null  int64         \n",
      " 1   stockcode    689289 non-null  int64         \n",
      " 2   description  689289 non-null  object        \n",
      " 3   quantity     689289 non-null  int64         \n",
      " 4   invoicedate  689289 non-null  datetime64[ns]\n",
      " 5   price        689289 non-null  float64       \n",
      " 6   customer_id  689289 non-null  int64         \n",
      " 7   country      689289 non-null  object        \n",
      "dtypes: datetime64[ns](1), float64(1), int64(4), object(2)\n",
      "memory usage: 42.1+ MB\n",
      "## INFO: \n",
      " None\n",
      "DETAILS: \n",
      "              invoice      stockcode       quantity  \\\n",
      "count  689289.000000  689289.000000  689289.000000   \n",
      "mean   537403.341519   32996.878826       7.323673   \n",
      "min    489434.000000       1.000000       1.000000   \n",
      "25%    514714.000000   21786.000000       2.000000   \n",
      "50%    536981.000000   22467.000000       5.000000   \n",
      "75%    561879.000000   23265.000000      12.000000   \n",
      "max    581587.000000   90214.000000      27.000000   \n",
      "std     26789.195272   22910.001292       6.696510   \n",
      "\n",
      "                         invoicedate          price    customer_id  \n",
      "count                         689289  689289.000000  689289.000000  \n",
      "mean   2011-01-02 09:02:47.103581184       2.287801   15348.123175  \n",
      "min              2009-12-01 07:45:00       0.000000   12346.000000  \n",
      "25%              2010-07-05 15:42:00       1.250000   13993.000000  \n",
      "50%              2010-12-03 14:26:00       1.690000   15311.000000  \n",
      "75%              2011-07-31 12:43:00       2.950000   16814.000000  \n",
      "max              2011-12-09 12:50:00       7.500000   18287.000000  \n",
      "std                              NaN       1.614027    1696.056732  \n",
      "\n",
      "## Details:\n",
      "- Number of records: 689289\n",
      "- Number of features: 8\n",
      "- Missing values:\n",
      "invoice        0\n",
      "stockcode      0\n",
      "description    0\n",
      "quantity       0\n",
      "invoicedate    0\n",
      "price          0\n",
      "customer_id    0\n",
      "country        0\n",
      "dtype: int64   \n",
      "\n"
     ]
    }
   ],
   "source": [
    "print(\"## INFO: \\n\", lr_data.info())\n",
    "print(\"DETAILS: \\n\", lr_data.describe())\n",
    "print(f\"\"\"\n",
    "## Details:\n",
    "- Number of records: {lr_data.shape[0]}\n",
    "- Number of features: {lr_data.shape[1]}\n",
    "- Missing values:\\n{lr_data.isnull().sum()}   \n",
    "\"\"\")"
   ]
  },
  {
   "cell_type": "code",
   "execution_count": null,
   "id": "7e781fe9",
   "metadata": {},
   "outputs": [],
   "source": [
    "# I define 20% 137.857 records of data as test data\n",
    "\n",
    "\n",
    "X_train, X_test, y_train, y_test = train_test_split_data()"
   ]
  }
 ],
 "metadata": {
  "kernelspec": {
   "display_name": "Python 3",
   "language": "python",
   "name": "python3"
  },
  "language_info": {
   "codemirror_mode": {
    "name": "ipython",
    "version": 3
   },
   "file_extension": ".py",
   "mimetype": "text/x-python",
   "name": "python",
   "nbconvert_exporter": "python",
   "pygments_lexer": "ipython3",
   "version": "3.11.9"
  }
 },
 "nbformat": 4,
 "nbformat_minor": 5
}
