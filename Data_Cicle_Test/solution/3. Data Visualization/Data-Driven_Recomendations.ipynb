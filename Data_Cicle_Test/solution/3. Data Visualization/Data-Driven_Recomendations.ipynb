{
 "cells": [
  {
   "cell_type": "markdown",
   "id": "ec97d996",
   "metadata": {},
   "source": [
    "## Strategic Recommendations Based on Retail Data and customer (2009–2011)\n",
    "\n",
    "### 1. Focus on Seasonal Peaks\n",
    "There is a clear increase in the number of customers—and consequently in sales—during the months of **September, October, and November**.  \n",
    "**Recommendation:** Prioritize marketing campaigns, inventory planning, and promotional offers during this seasonal window to maximize revenue.\n",
    "\n",
    "### 2. Invest in Top-Performing Departments\n",
    "The top three departments by sales volume are **Games**, **Baby**, and **Automotive**.  \n",
    "**Recommendation:** Allocate more resources to these categories, including product variety, targeted ads, and bundled offers.\n",
    "\n",
    "### 3. Leverage Departmental Consistency\n",
    "The **Games** department maintained its leading position across both periods (2009–2010 and 2010–2011), attracting approximately **305 unique customers**.  \n",
    "**Recommendation:** Consider loyalty programs, exclusive releases, or targeted engagement strategies for this consistently high-performing segment.\n",
    "\n",
    "### 4. Optimize for Revenue Efficiency\n",
    "The **Baby** department shows a medium average quantity sold but generates the **highest total revenue in USD**. Similarly, **Sports** has low average quantities but strong revenue performance.  \n",
    "**Recommendation:** Focus on departments with high revenue-per-unit potential for premium positioning and margin optimization.\n",
    "\n",
    "### 5. Monitor and Improve Average Ticket Value\n",
    "The average invoice value during the 2009–2011 period was **$227.46 USD**.  \n",
    "**Recommendation:** Use this benchmark to design upselling strategies, cross-department promotions, and customer segmentation aimed at increasing average spend per transaction.\n",
    "  "
   ]
  }
 ],
 "metadata": {
  "language_info": {
   "name": "python"
  }
 },
 "nbformat": 4,
 "nbformat_minor": 5
}
