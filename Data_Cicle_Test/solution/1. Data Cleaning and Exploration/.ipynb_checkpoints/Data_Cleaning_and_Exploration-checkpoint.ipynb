{
 "cells": [
  {
   "cell_type": "markdown",
   "id": "a06b842f-455f-4c75-bbcf-b21a72832e9f",
   "metadata": {},
   "source": [
    "### Conecting with data"
   ]
  },
  {
   "cell_type": "code",
   "execution_count": null,
   "id": "acddb18a-a2c8-46fa-9bdb-bcd086bdb068",
   "metadata": {},
   "outputs": [],
   "source": [
    "import pandas as pd\n",
    "\n",
    "retail_df = pd.read_csv"
   ]
  }
 ],
 "metadata": {
  "kernelspec": {
   "display_name": "Python [conda env:base] *",
   "language": "python",
   "name": "conda-base-py"
  },
  "language_info": {
   "codemirror_mode": {
    "name": "ipython",
    "version": 3
   },
   "file_extension": ".py",
   "mimetype": "text/x-python",
   "name": "python",
   "nbconvert_exporter": "python",
   "pygments_lexer": "ipython3",
   "version": "3.13.5"
  }
 },
 "nbformat": 4,
 "nbformat_minor": 5
}
